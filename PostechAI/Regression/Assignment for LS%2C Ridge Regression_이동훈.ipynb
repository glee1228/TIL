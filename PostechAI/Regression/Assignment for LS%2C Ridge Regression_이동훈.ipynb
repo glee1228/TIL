{
 "cells": [
  {
   "cell_type": "code",
   "execution_count": 2,
   "metadata": {},
   "outputs": [],
   "source": [
    "import numpy as np\n",
    "import tensorflow as tf\n",
    "from matplotlib import pyplot as plt"
   ]
  },
  {
   "cell_type": "code",
   "execution_count": 3,
   "metadata": {},
   "outputs": [
    {
     "name": "stdout",
     "output_type": "stream",
     "text": [
      "(30, 10)\n",
      "[[ 1.00000000e+00 -6.28318531e+00  3.94784176e+01 -2.48050213e+02\n",
      "   1.55854546e+03 -9.79262991e+03  6.15289084e+04 -3.86597533e+05\n",
      "   2.42906394e+06 -1.52622589e+07]\n",
      " [ 1.00000000e+00 -5.84986218e+00  3.42208876e+01 -2.00187476e+02\n",
      "   1.17106915e+03 -6.85059310e+03  4.00750255e+04 -2.34433376e+05\n",
      "   1.37140294e+06 -8.02251821e+06]\n",
      " [ 1.00000000e+00 -5.41653906e+00  2.93388954e+01 -1.58915273e+02\n",
      "   8.60770781e+02 -4.66239856e+03  2.52540639e+04 -1.36789623e+05\n",
      "   7.40926338e+05 -4.01325645e+06]]\n"
     ]
    },
    {
     "data": {
      "image/png": "[encoded data removed]",
      "text/plain": [
       "<Figure size 432x288 with 1 Axes>"
      ]
     },
     "metadata": {
      "needs_background": "light"
     },
     "output_type": "display_data"
    }
   ],
   "source": [
    "N = 30\n",
    "X = np.linspace(-np.pi*2, np.pi*2, N).reshape(N, 1)\n",
    "y = np.sin(X) + 0.5*np.random.randn(N, 1)\n",
    "\n",
    "plt.plot(X, y)\n",
    "\n",
    "PHI = np.ones(X.shape[0]).reshape(-1, 1)\n",
    "for i in range(1, 10):\n",
    "    PHI = np.concatenate((PHI, np.power(X, i)), axis=1)\n",
    "print(PHI.shape)\n",
    "print(PHI[:3])\n",
    "\n",
    "idx = np.random.permutation(N)\n",
    "X_ = X[idx]\n",
    "PHI_ = PHI[idx]\n",
    "y_ = y[idx]\n",
    "\n",
    "X_train = X_[:-20]\n",
    "PHI_train = PHI_[:-20]\n",
    "y_train = y_[:-20]\n",
    "plt.scatter(X_train, y_train)\n",
    "\n",
    "plt.show()"
   ]
  },
  {
   "cell_type": "markdown",
   "metadata": {},
   "source": [
    "# trian with\n",
    "PHI_train, y_train\n",
    "# plot with\n",
    "X_train, y_train\n",
    "X, y"
   ]
  },
  {
   "cell_type": "code",
   "execution_count": 88,
   "metadata": {},
   "outputs": [],
   "source": [
    "learning_rate = 0.001\n",
    "training_epochs = 1000\n",
    "display_step = 50\n",
    "\n",
    "reg_lambda = 0.3\n",
    "\n",
    "n_samples = PHI_train.shape[0]"
   ]
  },
  {
   "cell_type": "code",
   "execution_count": 89,
   "metadata": {},
   "outputs": [],
   "source": [
    "X = tf.placeholder('float', shape=[None, 10])\n",
    "Y = tf.placeholder('float')\n",
    "\n",
    "W = tf.Variable(tf.random_normal([10, 1]), name=\"weight\")\n",
    "b = tf.Variable(tf.random_normal([1]), name=\"bias\")\n",
    "\n",
    "pred = tf.add(tf.matmul(X, W), b)\n",
    "\n",
    "obj = tf.reduce_sum(tf.pow(pred - Y, 2)) / (2 * n_samples) \\\n",
    "    + reg_lambda * tf.reduce_sum(tf.pow(W, 2)) / (2 * n_samples)\n",
    "optimizer = tf.train.AdamOptimizer(learning_rate).minimize(obj)"
   ]
  },
  {
   "cell_type": "code",
   "execution_count": 90,
   "metadata": {},
   "outputs": [
    {
     "name": "stdout",
     "output_type": "stream",
     "text": [
      "Epoch:  50\n",
      "Epoch:  100\n",
      "Epoch:  150\n",
      "Epoch:  200\n",
      "Epoch:  250\n",
      "Epoch:  300\n",
      "Epoch:  350\n",
      "Epoch:  400\n",
      "Epoch:  450\n",
      "Epoch:  500\n",
      "Epoch:  550\n",
      "Epoch:  600\n",
      "Epoch:  650\n",
      "Epoch:  700\n",
      "Epoch:  750\n",
      "Epoch:  800\n",
      "Epoch:  850\n",
      "Epoch:  900\n",
      "Epoch:  950\n",
      "Epoch:  1000\n",
      "최적화 완료\n",
      "학습 손실 =  39928810.0\n",
      "W =  [[-2.4839435 ]\n",
      " [ 2.1768036 ]\n",
      " [-3.1612225 ]\n",
      " [ 2.8770308 ]\n",
      " [-3.4006605 ]\n",
      " [ 1.3237256 ]\n",
      " [-1.2310737 ]\n",
      " [-1.516832  ]\n",
      " [ 0.11138366]\n",
      " [ 0.05610272]]\n",
      "b =  [-2.0897996]\n"
     ]
    }
   ],
   "source": [
    "init = tf.global_variables_initializer()\n",
    "\n",
    "sess = tf.Session()\n",
    "sess.run(init)\n",
    "\n",
    "for epoch in range(0, training_epochs):\n",
    "    for x, y in zip(PHI_train, y_train):\n",
    "        sess.run(optimizer, feed_dict={X: x.reshape(1, -1), Y: y})\n",
    "    if (epoch + 1) % display_step == 0:\n",
    "        print(\"Epoch: \", epoch + 1)\n",
    "\n",
    "print(\"최적화 완료\") \n",
    "print(\"학습 손실 = \", sess.run(obj, feed_dict={X: PHI_train, Y: y_train})) \n",
    "print(\"W = \", sess.run(W))\n",
    "print(\"b = \", sess.run(b))\n",
    "\n",
    "weight = sess.run(W)\n",
    "bias = sess.run(b)"
   ]
  },
  {
   "cell_type": "code",
   "execution_count": 95,
   "metadata": {},
   "outputs": [],
   "source": [
    "X = np.linspace(-np.pi*2, np.pi*2, N).reshape(N, 1)\n",
    "\n",
    "y = bias[0] * np.power(X, 0) +weight[0,0] * np.power(X, 1) +\\\n",
    "weight[1,0] * np.power(X, 2) +\\\n",
    "weight[2,0] * np.power(X, 3) +\\\n",
    "weight[3,0] * np.power(X, 4) +\\\n",
    "weight[4,0] * np.power(X, 5) +\\\n",
    "weight[5,0] * np.power(X, 6) +\\\n",
    "weight[6,0] * np.power(X, 7) +\\\n",
    "weight[7,0] * np.power(X, 8) +\\\n",
    "weight[8,0] * np.power(X, 9) +\\\n",
    "weight[9,0] * np.power(X, 10)"
   ]
  },
  {
   "cell_type": "code",
   "execution_count": 96,
   "metadata": {},
   "outputs": [
    {
     "data": {
      "image/png": "[encoded data removed]",
      "text/plain": [
       "<Figure size 432x288 with 1 Axes>"
      ]
     },
     "metadata": {
      "needs_background": "light"
     },
     "output_type": "display_data"
    }
   ],
   "source": [
    "plt.plot(X, y)\n",
    "\n",
    "plt.scatter(X_train, y_train)\n",
    "\n",
    "plt.show()"
   ]
  },
  {
   "cell_type": "code",
   "execution_count": null,
   "metadata": {},
   "outputs": [],
   "source": []
  }
 ],
 "metadata": {
  "kernelspec": {
   "display_name": "Python 3",
   "language": "python",
   "name": "python3"
  },
  "language_info": {
   "codemirror_mode": {
    "name": "ipython",
    "version": 3
   },
   "file_extension": ".py",
   "mimetype": "text/x-python",
   "name": "python",
   "nbconvert_exporter": "python",
   "pygments_lexer": "ipython3",
   "version": "3.6.6"
  }
 },
 "nbformat": 4,
 "nbformat_minor": 2
}
