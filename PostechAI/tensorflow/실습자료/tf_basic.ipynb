{
 "cells": [
  {
   "cell_type": "code",
   "execution_count": null,
   "metadata": {
    "collapsed": true
   },
   "outputs": [],
   "source": [
    "import tensorflow as tf\n",
    "\n",
    "a = tf.get_variable('a', [], initializer = tf.constant_initializer(1))\n",
    "print(a)\n",
    "\n",
    "b = tf.get_variable('b', [], initializer = tf.constant_initializer(2))\n",
    "print(b)\n",
    "\n",
    "c = a + b\n",
    "print(c)\n",
    "\n",
    "assign_op = tf.assign(a, 3)\n",
    "global_init_op = tf.global_variables_initializer()\n",
    "\n",
    "with tf.Session() as sess: # Don't build computational graph in session\n",
    "    sess.run(global_init_op)\n",
    "    sess.run(assign_op)\n",
    "    print(sess.run(c))"
   ]
  }
 ],
 "metadata": {
  "anaconda-cloud": {},
  "kernelspec": {
   "display_name": "Python [default]",
   "language": "python",
   "name": "python3"
  },
  "language_info": {
   "codemirror_mode": {
    "name": "ipython",
    "version": 3
   },
   "file_extension": ".py",
   "mimetype": "text/x-python",
   "name": "python",
   "nbconvert_exporter": "python",
   "pygments_lexer": "ipython3",
   "version": "3.4.5"
  }
 },
 "nbformat": 4,
 "nbformat_minor": 2
}
