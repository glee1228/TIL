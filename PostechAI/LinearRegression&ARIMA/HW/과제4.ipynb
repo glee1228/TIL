{
 "cells": [
  {
   "cell_type": "markdown",
   "metadata": {},
   "source": [
    "### 1. Module 불러오기"
   ]
  },
  {
   "cell_type": "code",
   "execution_count": 1,
   "metadata": {
    "ExecuteTime": {
     "end_time": "2017-11-06T04:06:26.591074Z",
     "start_time": "2017-11-06T13:06:26.029869+09:00"
    },
    "collapsed": true
   },
   "outputs": [],
   "source": [
    "import scipy.io as sio\n",
    "import numpy as np\n",
    "import scipy.stats as stats\n",
    "import matplotlib.pyplot as plt"
   ]
  },
  {
   "cell_type": "markdown",
   "metadata": {},
   "source": [
    "### 2-1  Data 불러오기\n",
    "\n",
    "sio.loadmat을 이용하여 데이터를 불러오세요."
   ]
  },
  {
   "cell_type": "code",
   "execution_count": 2,
   "metadata": {
    "ExecuteTime": {
     "end_time": "2017-11-06T04:06:26.598085Z",
     "start_time": "2017-11-06T13:06:26.593422+09:00"
    },
    "collapsed": true
   },
   "outputs": [],
   "source": [
    "data_0 = sio.loadmat(\"data0.mat\")\n",
    "data_2 = sio.loadmat(\"data2.mat\")\n",
    "data_3 = sio.loadmat(\"data3.mat\")"
   ]
  },
  {
   "cell_type": "markdown",
   "metadata": {},
   "source": [
    "### 2-2   Data를 변수로 저장하기\n",
    "\n",
    "2-1에서 불러온 데이터중 data0.mat 파일에서 읽은 데이터를 $n\\times 2$ numpy array 타입을 가지는 x라는 변수에 저장하세요.\n",
    "\n",
    "Hint1 : 두개의 array를 합치기 위해서 np.concatenate를 이용하세요.\n",
    "https://docs.scipy.org/doc/numpy-1.13.0/reference/generated/numpy.concatenate.html 참조.\n",
    "\n",
    "Hint2 : data.T는 data의 transpose matrix를 반환합니다."
   ]
  },
  {
   "cell_type": "code",
   "execution_count": 3,
   "metadata": {
    "ExecuteTime": {
     "end_time": "2017-11-06T04:06:26.663004Z",
     "start_time": "2017-11-06T13:06:26.600267+09:00"
    }
   },
   "outputs": [],
   "source": []
  },
  {
   "cell_type": "markdown",
   "metadata": {},
   "source": [
    "### 3. 초기값 지정하기\n",
    "\n",
    "$\\pi_j$, $\\mu_j$, $\\sigma_j$값의 초기값을 각각 pi, mu, sigma라는 변수에 입력합니다.\n",
    "\n",
    "여기서 pi, mu, sigma는 각각 $1\\times 2$, $2 \\times 2$, $2\\times 2\\times 2$ numpy array입니다.\n",
    "\n",
    "pi=[0.5,0.5], mu[0]=[3,5], mu[1]=[7,5], sigma[0]=sigma[1]=[[1,0],[0,1]]로 저장합니다.\n",
    "\n",
    "Hint : np.identity는 identity matrix를 생성하는 함수입니다. https://docs.scipy.org/doc/numpy-1.13.0/reference/generated/numpy.identity.html 참조."
   ]
  },
  {
   "cell_type": "code",
   "execution_count": 4,
   "metadata": {
    "ExecuteTime": {
     "end_time": "2017-11-06T04:06:26.702027Z",
     "start_time": "2017-11-06T13:06:26.665505+09:00"
    },
    "collapsed": true
   },
   "outputs": [],
   "source": []
  },
  {
   "cell_type": "markdown",
   "metadata": {},
   "source": [
    "### 3. E-step 계산하기\n",
    "\n",
    "#### 3-1 $p(x_t \\mid z_j)$값 계산하기\n",
    "stats.multivariate_normal.pdf 함수를 이용하여 $n \\times 2$ numpy array 타입을 가지는 p라는 변수에 $p(x_t \\mid z_j)$값을 저장하세요.\n",
    "\n",
    "예를 들어서 p[0][15]에는 $p(x_{15} \\mid z_0)$값이 저장 됩니다."
   ]
  },
  {
   "cell_type": "code",
   "execution_count": 5,
   "metadata": {
    "ExecuteTime": {
     "end_time": "2017-11-06T04:06:26.770134Z",
     "start_time": "2017-11-06T13:06:26.704476+09:00"
    }
   },
   "outputs": [],
   "source": []
  },
  {
   "cell_type": "markdown",
   "metadata": {},
   "source": [
    "#### 3-2 $r_{jt}$값 계산하기\n",
    "3-1에서 구한 $p(x_t \\mid z_j)$값을 이용하여 $r_{jt}$를 계산합니다. 그 후 $2 \\times n$ numpy array 타입을 가지는 r이라는 변수에 $r_{jt}$값을 저장합니다."
   ]
  },
  {
   "cell_type": "code",
   "execution_count": 6,
   "metadata": {
    "ExecuteTime": {
     "end_time": "2017-11-06T04:06:26.780563Z",
     "start_time": "2017-11-06T13:06:26.772620+09:00"
    }
   },
   "outputs": [],
   "source": []
  },
  {
   "cell_type": "markdown",
   "metadata": {},
   "source": [
    "#### 3-3 E-step 함수 만들기\n",
    "3.1, 3.2를 이용하여 x, mu, sigma, pi를 input으로 가지고 r값을 return하는 E라는 이름을 가지는 함수를 정의하세요."
   ]
  },
  {
   "cell_type": "code",
   "execution_count": 7,
   "metadata": {
    "ExecuteTime": {
     "end_time": "2017-11-06T04:06:26.832842Z",
     "start_time": "2017-11-06T13:06:26.782934+09:00"
    },
    "collapsed": true
   },
   "outputs": [],
   "source": []
  },
  {
   "cell_type": "markdown",
   "metadata": {},
   "source": [
    "### 4. M-step 계산하기\n",
    "\n",
    "#### 4.1 $R_j$ 계산하기\n",
    "E-step에서 계산된 $r_jt$값을 이용하여 $R_j$값을 계산한 후 $1\\times 2$ numpy array 타입을 가지는 R이라는 변수에 $R_j$값을 저장합니다.\n",
    "\n",
    "Hint : np.sum 함수는 array의 component들의 합을 구하는 함수입니다. https://docs.scipy.org/doc/numpy-1.13.0/reference/generated/numpy.sum.html 참조"
   ]
  },
  {
   "cell_type": "code",
   "execution_count": 8,
   "metadata": {
    "ExecuteTime": {
     "end_time": "2017-11-06T04:06:26.869952Z",
     "start_time": "2017-11-06T13:06:26.835079+09:00"
    }
   },
   "outputs": [],
   "source": []
  },
  {
   "cell_type": "markdown",
   "metadata": {},
   "source": [
    "#### 4.2 $\\mu_j^{new}$ 계산하기\n",
    "$R_j$와 $r_{jt}$, $x_t$를 이용하여 $\\mu_j^{new}$를 계산한 후 $2\\times 2$ numpy array 타입을 가지는 mu_new라는 변수에 $\\mu_j^{new}$값을 저장합니다.\n",
    "\n",
    "Hint : np.dot 합수는 array의 inner product를 계산하는 함수입니다. https://docs.scipy.org/doc/numpy-1.13.0/reference/generated/numpy.dot.html 참조"
   ]
  },
  {
   "cell_type": "code",
   "execution_count": 9,
   "metadata": {
    "ExecuteTime": {
     "end_time": "2017-11-06T04:06:26.906169Z",
     "start_time": "2017-11-06T13:06:26.872360+09:00"
    }
   },
   "outputs": [],
   "source": []
  },
  {
   "cell_type": "markdown",
   "metadata": {},
   "source": [
    "#### 4.3 $\\sigma_j^{2~new}$ 계산하기\n",
    "$R_j$와 $r_{jt}$, $x_t$, $\\mu_j^{new}$를 이용하여 $\\sigma_j^{2~new}$를 계산한 후 $2\\times 2\\times 2$ numpy array 타입을 가지는 sigma_new라는 변수에 $\\sigma_j^{2~new}$값을 저장합니다.\n",
    "\n",
    "\n",
    "Hint : np.outer 합수는 array의 outer product를 계산하는 함수입니다. https://docs.scipy.org/doc/numpy-1.13.0/reference/generated/numpy.outer.html 참조"
   ]
  },
  {
   "cell_type": "code",
   "execution_count": 10,
   "metadata": {
    "ExecuteTime": {
     "end_time": "2017-11-06T04:06:26.944052Z",
     "start_time": "2017-11-06T13:06:26.908317+09:00"
    }
   },
   "outputs": [],
   "source": []
  },
  {
   "cell_type": "markdown",
   "metadata": {
    "ExecuteTime": {
     "end_time": "2017-11-06T02:48:18.534052Z",
     "start_time": "2017-11-06T11:48:18.528157+09:00"
    }
   },
   "source": [
    "#### 4.4 $\\pi_j^{new}$ 계산하기\n",
    "$r_{jt}$를 이용하여 $\\pi_j^{new}$를 계산한 후 $1\\times 2$ numpy array 타입을 가지는 pi_new라는 변수에 $\\pi_j^{new}$값을 저장합니다."
   ]
  },
  {
   "cell_type": "code",
   "execution_count": 11,
   "metadata": {
    "ExecuteTime": {
     "end_time": "2017-11-06T04:06:26.984073Z",
     "start_time": "2017-11-06T13:06:26.946676+09:00"
    }
   },
   "outputs": [],
   "source": []
  },
  {
   "cell_type": "markdown",
   "metadata": {
    "collapsed": true
   },
   "source": [
    "#### 4-5 M-step 함수 만들기\n",
    "3.1, 3.2를 이용하여 x, r를 input으로 가지고 mu_new, sigma_new, pi_new 값을 return하는 M라는 이름을 가지는 함수를 정의하세요."
   ]
  },
  {
   "cell_type": "code",
   "execution_count": 12,
   "metadata": {
    "ExecuteTime": {
     "end_time": "2017-11-06T04:06:27.020961Z",
     "start_time": "2017-11-06T13:06:26.986388+09:00"
    },
    "collapsed": true
   },
   "outputs": [],
   "source": []
  },
  {
   "cell_type": "markdown",
   "metadata": {},
   "source": [
    "### 5. MoG 함수 만들기\n",
    "EM algorithm을 이용하여 MoG라는 이름의 함수를 만드세요.\n",
    "\n",
    "1. input은 data와 iters, mu, sigma, pi입니다. data는 sio.loadmat을 이용하여 읽은 데이터, iters는 EM알고리즘 반복 횟수입니다. 기본값으로 100주세요. mu, sigma, pi는 각각 $\\mu$, $\\sigma$, $\\pi$의 초기값 입니다.\n",
    "2. 데이터를 $n\\times 2$ numpy array 타입을 가지는 x라는 변수에 저장하세요.\n",
    "3. E함수와 M함수를 iter만큼 반복하세요.\n",
    "4. $r_{jt}$값은 $x_t$ 데이터가 $j$클래스일 확률 입니다. $r_{0t}>0.5$이면 t번째 데이터를 0으로 판별하고, $r_{1t}>0.5$이면 t번째 데이터를 1로 판별합니다.\n",
    "5. 0으로 판별된 데이터는 파란색, 1로 판별된 데이터는 빨간색으로 그리는 plot을 그립니다.\n",
    "6. blue와 red로 판별된 데이터의 평균 벡터($\\mu$)와과 공분산 매트릭스($\\sigma^2$)를 프린트 하세요. \n",
    "7. blue와 red의 평균벡터들과 공분산 matrix들을 output으로 설정하세요."
   ]
  },
  {
   "cell_type": "code",
   "execution_count": 13,
   "metadata": {
    "ExecuteTime": {
     "end_time": "2017-11-06T04:06:27.056439Z",
     "start_time": "2017-11-06T13:06:27.023614+09:00"
    }
   },
   "outputs": [],
   "source": []
  },
  {
   "cell_type": "markdown",
   "metadata": {},
   "source": [
    "### 6. Result\n",
    "다음 코드를 실행하여 결과를 확인하세요."
   ]
  },
  {
   "cell_type": "code",
   "execution_count": 14,
   "metadata": {
    "ExecuteTime": {
     "end_time": "2017-11-06T04:06:30.180508Z",
     "start_time": "2017-11-06T13:06:27.058514+09:00"
    }
   },
   "outputs": [
    {
     "data": {
      "image/png": "[encoded data removed]",
      "text/plain": [
       "<matplotlib.figure.Figure at 0x7f032c2ca6a0>"
      ]
     },
     "metadata": {},
     "output_type": "display_data"
    },
    {
     "name": "stdout",
     "output_type": "stream",
     "text": [
      "blue mean : [ 2.10131659  6.03010249]\n",
      "blue variance : [[ 0.70296353 -0.54698811]\n",
      " [-0.54698811  1.05491056]]\n",
      "red mean : [ 8.11450637  5.03141317]\n",
      "red variance : [[ 0.70447312  0.00192941]\n",
      " [ 0.00192941  0.81094004]]\n"
     ]
    }
   ],
   "source": [
    "mu_result, sigma_result= MoG(data_0, mu, sigma, pi)"
   ]
  },
  {
   "cell_type": "code",
   "execution_count": null,
   "metadata": {
    "collapsed": true
   },
   "outputs": [],
   "source": []
  }
 ],
 "metadata": {
  "kernelspec": {
   "display_name": "Python 3",
   "language": "python",
   "name": "python3"
  },
  "language_info": {
   "codemirror_mode": {
    "name": "ipython",
    "version": 3
   },
   "file_extension": ".py",
   "mimetype": "text/x-python",
   "name": "python",
   "nbconvert_exporter": "python",
   "pygments_lexer": "ipython3",
   "version": "3.6.5"
  }
 },
 "nbformat": 4,
 "nbformat_minor": 2
}
