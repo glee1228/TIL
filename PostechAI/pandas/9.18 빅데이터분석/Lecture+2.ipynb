{
 "cells": [
  {
   "cell_type": "markdown",
   "metadata": {},
   "source": [
    "# 가설 검정(Hypothesis Testing)"
   ]
  },
  {
   "cell_type": "code",
   "execution_count": 1,
   "metadata": {
    "ExecuteTime": {
     "end_time": "2018-05-24T06:15:05.168892Z",
     "start_time": "2018-05-24T15:15:00.690873+09:00"
    },
    "collapsed": true
   },
   "outputs": [],
   "source": [
    "import pandas as pd\n",
    "import numpy as np\n",
    "import matplotlib.pyplot as plt\n",
    "import scipy.stats as stats\n",
    "from datetime import datetime\n",
    "import pandas_datareader.data as web\n",
    "import datetime as dt"
   ]
  },
  {
   "cell_type": "markdown",
   "metadata": {},
   "source": [
    "## Microsoft사의 주식의 평균 수익률이 양수인지 검증하기"
   ]
  },
  {
   "cell_type": "markdown",
   "metadata": {},
   "source": [
    "### 가설 수립\n",
    "1. $H_0$ : Microsoft사의 주식의 평균 수익률이 0이하이다.\n",
    "2. $H_1$ : Microsoft사의 주식의 평균 수익률이 0이상이다."
   ]
  },
  {
   "cell_type": "markdown",
   "metadata": {},
   "source": [
    "#### Yahoo finance로 부터 데이터 읽기"
   ]
  },
  {
   "cell_type": "code",
   "execution_count": 3,
   "metadata": {
    "ExecuteTime": {
     "end_time": "2018-05-24T06:15:15.130587Z",
     "start_time": "2018-05-24T15:15:13.352536+09:00"
    },
    "scrolled": true
   },
   "outputs": [],
   "source": [
    "start = dt.datetime(2010,1,1)\n",
    "end = dt.datetime(2016,1,1)\n",
    "MSFT = web.DataReader('MSFT','yahoo',start=start, end=end)"
   ]
  },
  {
   "cell_type": "code",
   "execution_count": 4,
   "metadata": {
    "ExecuteTime": {
     "end_time": "2018-05-24T06:15:56.940176Z",
     "start_time": "2018-05-24T15:15:56.866638+09:00"
    }
   },
   "outputs": [
    {
     "data": {
      "text/html": [
       "<div>\n",
       "<table border=\"1\" class=\"dataframe\">\n",
       "  <thead>\n",
       "    <tr style=\"text-align: right;\">\n",
       "      <th></th>\n",
       "      <th>Open</th>\n",
       "      <th>High</th>\n",
       "      <th>Low</th>\n",
       "      <th>Close</th>\n",
       "      <th>Adj Close</th>\n",
       "      <th>Volume</th>\n",
       "    </tr>\n",
       "    <tr>\n",
       "      <th>Date</th>\n",
       "      <th></th>\n",
       "      <th></th>\n",
       "      <th></th>\n",
       "      <th></th>\n",
       "      <th></th>\n",
       "      <th></th>\n",
       "    </tr>\n",
       "  </thead>\n",
       "  <tbody>\n",
       "    <tr>\n",
       "      <th>2009-12-31</th>\n",
       "      <td>30.980000</td>\n",
       "      <td>30.990000</td>\n",
       "      <td>30.480000</td>\n",
       "      <td>30.480000</td>\n",
       "      <td>24.544783</td>\n",
       "      <td>31929700</td>\n",
       "    </tr>\n",
       "    <tr>\n",
       "      <th>2010-01-04</th>\n",
       "      <td>30.620001</td>\n",
       "      <td>31.100000</td>\n",
       "      <td>30.590000</td>\n",
       "      <td>30.950001</td>\n",
       "      <td>24.923265</td>\n",
       "      <td>38409100</td>\n",
       "    </tr>\n",
       "    <tr>\n",
       "      <th>2010-01-05</th>\n",
       "      <td>30.850000</td>\n",
       "      <td>31.100000</td>\n",
       "      <td>30.639999</td>\n",
       "      <td>30.959999</td>\n",
       "      <td>24.931318</td>\n",
       "      <td>49749600</td>\n",
       "    </tr>\n",
       "    <tr>\n",
       "      <th>2010-01-06</th>\n",
       "      <td>30.879999</td>\n",
       "      <td>31.080000</td>\n",
       "      <td>30.520000</td>\n",
       "      <td>30.770000</td>\n",
       "      <td>24.778313</td>\n",
       "      <td>58182400</td>\n",
       "    </tr>\n",
       "    <tr>\n",
       "      <th>2010-01-07</th>\n",
       "      <td>30.629999</td>\n",
       "      <td>30.700001</td>\n",
       "      <td>30.190001</td>\n",
       "      <td>30.450001</td>\n",
       "      <td>24.520622</td>\n",
       "      <td>50559700</td>\n",
       "    </tr>\n",
       "    <tr>\n",
       "      <th>2010-01-08</th>\n",
       "      <td>30.280001</td>\n",
       "      <td>30.879999</td>\n",
       "      <td>30.240000</td>\n",
       "      <td>30.660000</td>\n",
       "      <td>24.689730</td>\n",
       "      <td>51197400</td>\n",
       "    </tr>\n",
       "    <tr>\n",
       "      <th>2010-01-11</th>\n",
       "      <td>30.709999</td>\n",
       "      <td>30.760000</td>\n",
       "      <td>30.120001</td>\n",
       "      <td>30.270000</td>\n",
       "      <td>24.375685</td>\n",
       "      <td>68754700</td>\n",
       "    </tr>\n",
       "    <tr>\n",
       "      <th>2010-01-12</th>\n",
       "      <td>30.150000</td>\n",
       "      <td>30.400000</td>\n",
       "      <td>29.910000</td>\n",
       "      <td>30.070000</td>\n",
       "      <td>24.214621</td>\n",
       "      <td>65912100</td>\n",
       "    </tr>\n",
       "    <tr>\n",
       "      <th>2010-01-13</th>\n",
       "      <td>30.260000</td>\n",
       "      <td>30.520000</td>\n",
       "      <td>30.010000</td>\n",
       "      <td>30.350000</td>\n",
       "      <td>24.440102</td>\n",
       "      <td>51863500</td>\n",
       "    </tr>\n",
       "    <tr>\n",
       "      <th>2010-01-14</th>\n",
       "      <td>30.309999</td>\n",
       "      <td>31.100000</td>\n",
       "      <td>30.260000</td>\n",
       "      <td>30.959999</td>\n",
       "      <td>24.931318</td>\n",
       "      <td>63228100</td>\n",
       "    </tr>\n",
       "    <tr>\n",
       "      <th>2010-01-15</th>\n",
       "      <td>31.080000</td>\n",
       "      <td>31.240000</td>\n",
       "      <td>30.709999</td>\n",
       "      <td>30.860001</td>\n",
       "      <td>24.850792</td>\n",
       "      <td>79913200</td>\n",
       "    </tr>\n",
       "    <tr>\n",
       "      <th>2010-01-19</th>\n",
       "      <td>30.750000</td>\n",
       "      <td>31.240000</td>\n",
       "      <td>30.680000</td>\n",
       "      <td>31.100000</td>\n",
       "      <td>25.044058</td>\n",
       "      <td>46575700</td>\n",
       "    </tr>\n",
       "    <tr>\n",
       "      <th>2010-01-20</th>\n",
       "      <td>30.809999</td>\n",
       "      <td>30.940001</td>\n",
       "      <td>30.309999</td>\n",
       "      <td>30.590000</td>\n",
       "      <td>24.633364</td>\n",
       "      <td>54849500</td>\n",
       "    </tr>\n",
       "    <tr>\n",
       "      <th>2010-01-21</th>\n",
       "      <td>30.610001</td>\n",
       "      <td>30.719999</td>\n",
       "      <td>30.000000</td>\n",
       "      <td>30.010000</td>\n",
       "      <td>24.166307</td>\n",
       "      <td>73086700</td>\n",
       "    </tr>\n",
       "    <tr>\n",
       "      <th>2010-01-22</th>\n",
       "      <td>30.000000</td>\n",
       "      <td>30.200001</td>\n",
       "      <td>28.840000</td>\n",
       "      <td>28.959999</td>\n",
       "      <td>23.320772</td>\n",
       "      <td>102004600</td>\n",
       "    </tr>\n",
       "    <tr>\n",
       "      <th>2010-01-25</th>\n",
       "      <td>29.240000</td>\n",
       "      <td>29.660000</td>\n",
       "      <td>29.100000</td>\n",
       "      <td>29.320000</td>\n",
       "      <td>23.610674</td>\n",
       "      <td>63373000</td>\n",
       "    </tr>\n",
       "    <tr>\n",
       "      <th>2010-01-26</th>\n",
       "      <td>29.200001</td>\n",
       "      <td>29.850000</td>\n",
       "      <td>29.090000</td>\n",
       "      <td>29.500000</td>\n",
       "      <td>23.755617</td>\n",
       "      <td>66639900</td>\n",
       "    </tr>\n",
       "    <tr>\n",
       "      <th>2010-01-27</th>\n",
       "      <td>29.350000</td>\n",
       "      <td>29.820000</td>\n",
       "      <td>29.020000</td>\n",
       "      <td>29.670000</td>\n",
       "      <td>23.892517</td>\n",
       "      <td>63949500</td>\n",
       "    </tr>\n",
       "    <tr>\n",
       "      <th>2010-01-28</th>\n",
       "      <td>29.840000</td>\n",
       "      <td>29.870001</td>\n",
       "      <td>28.889999</td>\n",
       "      <td>29.160000</td>\n",
       "      <td>23.481817</td>\n",
       "      <td>117513700</td>\n",
       "    </tr>\n",
       "    <tr>\n",
       "      <th>2010-01-29</th>\n",
       "      <td>29.900000</td>\n",
       "      <td>29.920000</td>\n",
       "      <td>27.660000</td>\n",
       "      <td>28.180000</td>\n",
       "      <td>22.692654</td>\n",
       "      <td>193888500</td>\n",
       "    </tr>\n",
       "    <tr>\n",
       "      <th>2010-02-01</th>\n",
       "      <td>28.389999</td>\n",
       "      <td>28.480000</td>\n",
       "      <td>27.920000</td>\n",
       "      <td>28.410000</td>\n",
       "      <td>22.877863</td>\n",
       "      <td>85931100</td>\n",
       "    </tr>\n",
       "    <tr>\n",
       "      <th>2010-02-02</th>\n",
       "      <td>28.370001</td>\n",
       "      <td>28.500000</td>\n",
       "      <td>28.139999</td>\n",
       "      <td>28.459999</td>\n",
       "      <td>22.918135</td>\n",
       "      <td>54413700</td>\n",
       "    </tr>\n",
       "    <tr>\n",
       "      <th>2010-02-03</th>\n",
       "      <td>28.260000</td>\n",
       "      <td>28.790001</td>\n",
       "      <td>28.120001</td>\n",
       "      <td>28.629999</td>\n",
       "      <td>23.055025</td>\n",
       "      <td>61397900</td>\n",
       "    </tr>\n",
       "    <tr>\n",
       "      <th>2010-02-04</th>\n",
       "      <td>28.379999</td>\n",
       "      <td>28.500000</td>\n",
       "      <td>27.809999</td>\n",
       "      <td>27.840000</td>\n",
       "      <td>22.418863</td>\n",
       "      <td>77850000</td>\n",
       "    </tr>\n",
       "    <tr>\n",
       "      <th>2010-02-05</th>\n",
       "      <td>28.000000</td>\n",
       "      <td>28.280001</td>\n",
       "      <td>27.570000</td>\n",
       "      <td>28.020000</td>\n",
       "      <td>22.563814</td>\n",
       "      <td>80960100</td>\n",
       "    </tr>\n",
       "    <tr>\n",
       "      <th>2010-02-08</th>\n",
       "      <td>28.010000</td>\n",
       "      <td>28.080000</td>\n",
       "      <td>27.570000</td>\n",
       "      <td>27.719999</td>\n",
       "      <td>22.322224</td>\n",
       "      <td>52820600</td>\n",
       "    </tr>\n",
       "    <tr>\n",
       "      <th>2010-02-09</th>\n",
       "      <td>27.969999</td>\n",
       "      <td>28.340000</td>\n",
       "      <td>27.750000</td>\n",
       "      <td>28.010000</td>\n",
       "      <td>22.555761</td>\n",
       "      <td>59195800</td>\n",
       "    </tr>\n",
       "    <tr>\n",
       "      <th>2010-02-10</th>\n",
       "      <td>28.030001</td>\n",
       "      <td>28.240000</td>\n",
       "      <td>27.840000</td>\n",
       "      <td>27.990000</td>\n",
       "      <td>22.539648</td>\n",
       "      <td>48591300</td>\n",
       "    </tr>\n",
       "    <tr>\n",
       "      <th>2010-02-11</th>\n",
       "      <td>27.930000</td>\n",
       "      <td>28.400000</td>\n",
       "      <td>27.700001</td>\n",
       "      <td>28.120001</td>\n",
       "      <td>22.644337</td>\n",
       "      <td>65993700</td>\n",
       "    </tr>\n",
       "    <tr>\n",
       "      <th>2010-02-12</th>\n",
       "      <td>27.809999</td>\n",
       "      <td>28.059999</td>\n",
       "      <td>27.580000</td>\n",
       "      <td>27.930000</td>\n",
       "      <td>22.491335</td>\n",
       "      <td>81117200</td>\n",
       "    </tr>\n",
       "    <tr>\n",
       "      <th>...</th>\n",
       "      <td>...</td>\n",
       "      <td>...</td>\n",
       "      <td>...</td>\n",
       "      <td>...</td>\n",
       "      <td>...</td>\n",
       "      <td>...</td>\n",
       "    </tr>\n",
       "    <tr>\n",
       "      <th>2015-11-18</th>\n",
       "      <td>53.000000</td>\n",
       "      <td>53.980000</td>\n",
       "      <td>52.980000</td>\n",
       "      <td>53.849998</td>\n",
       "      <td>50.807163</td>\n",
       "      <td>29710000</td>\n",
       "    </tr>\n",
       "    <tr>\n",
       "      <th>2015-11-19</th>\n",
       "      <td>53.990002</td>\n",
       "      <td>54.660000</td>\n",
       "      <td>53.779999</td>\n",
       "      <td>53.939999</td>\n",
       "      <td>50.892090</td>\n",
       "      <td>28149200</td>\n",
       "    </tr>\n",
       "    <tr>\n",
       "      <th>2015-11-20</th>\n",
       "      <td>54.250000</td>\n",
       "      <td>54.299999</td>\n",
       "      <td>53.270000</td>\n",
       "      <td>54.189999</td>\n",
       "      <td>51.127956</td>\n",
       "      <td>37147600</td>\n",
       "    </tr>\n",
       "    <tr>\n",
       "      <th>2015-11-23</th>\n",
       "      <td>54.250000</td>\n",
       "      <td>54.459999</td>\n",
       "      <td>53.750000</td>\n",
       "      <td>54.189999</td>\n",
       "      <td>51.127956</td>\n",
       "      <td>28235900</td>\n",
       "    </tr>\n",
       "    <tr>\n",
       "      <th>2015-11-24</th>\n",
       "      <td>53.919998</td>\n",
       "      <td>54.439999</td>\n",
       "      <td>53.580002</td>\n",
       "      <td>54.250000</td>\n",
       "      <td>51.184570</td>\n",
       "      <td>24600000</td>\n",
       "    </tr>\n",
       "    <tr>\n",
       "      <th>2015-11-25</th>\n",
       "      <td>54.090000</td>\n",
       "      <td>54.230000</td>\n",
       "      <td>53.689999</td>\n",
       "      <td>53.689999</td>\n",
       "      <td>50.656204</td>\n",
       "      <td>21005100</td>\n",
       "    </tr>\n",
       "    <tr>\n",
       "      <th>2015-11-27</th>\n",
       "      <td>53.799999</td>\n",
       "      <td>54.080002</td>\n",
       "      <td>53.790001</td>\n",
       "      <td>53.930000</td>\n",
       "      <td>50.882645</td>\n",
       "      <td>9009100</td>\n",
       "    </tr>\n",
       "    <tr>\n",
       "      <th>2015-11-30</th>\n",
       "      <td>54.540001</td>\n",
       "      <td>54.959999</td>\n",
       "      <td>54.000000</td>\n",
       "      <td>54.349998</td>\n",
       "      <td>51.278912</td>\n",
       "      <td>56241400</td>\n",
       "    </tr>\n",
       "    <tr>\n",
       "      <th>2015-12-01</th>\n",
       "      <td>54.410000</td>\n",
       "      <td>55.230000</td>\n",
       "      <td>54.299999</td>\n",
       "      <td>55.220001</td>\n",
       "      <td>52.099762</td>\n",
       "      <td>39952800</td>\n",
       "    </tr>\n",
       "    <tr>\n",
       "      <th>2015-12-02</th>\n",
       "      <td>55.320000</td>\n",
       "      <td>55.959999</td>\n",
       "      <td>55.060001</td>\n",
       "      <td>55.209999</td>\n",
       "      <td>52.090317</td>\n",
       "      <td>47274900</td>\n",
       "    </tr>\n",
       "    <tr>\n",
       "      <th>2015-12-03</th>\n",
       "      <td>55.490002</td>\n",
       "      <td>55.770000</td>\n",
       "      <td>53.930000</td>\n",
       "      <td>54.200001</td>\n",
       "      <td>51.137394</td>\n",
       "      <td>38627800</td>\n",
       "    </tr>\n",
       "    <tr>\n",
       "      <th>2015-12-04</th>\n",
       "      <td>54.119999</td>\n",
       "      <td>56.230000</td>\n",
       "      <td>54.099998</td>\n",
       "      <td>55.910000</td>\n",
       "      <td>52.750759</td>\n",
       "      <td>43963700</td>\n",
       "    </tr>\n",
       "    <tr>\n",
       "      <th>2015-12-07</th>\n",
       "      <td>55.790001</td>\n",
       "      <td>55.970001</td>\n",
       "      <td>55.290001</td>\n",
       "      <td>55.810001</td>\n",
       "      <td>52.656418</td>\n",
       "      <td>30709800</td>\n",
       "    </tr>\n",
       "    <tr>\n",
       "      <th>2015-12-08</th>\n",
       "      <td>55.470001</td>\n",
       "      <td>56.099998</td>\n",
       "      <td>54.990002</td>\n",
       "      <td>55.790001</td>\n",
       "      <td>52.637547</td>\n",
       "      <td>32878000</td>\n",
       "    </tr>\n",
       "    <tr>\n",
       "      <th>2015-12-09</th>\n",
       "      <td>55.369999</td>\n",
       "      <td>55.869999</td>\n",
       "      <td>54.509998</td>\n",
       "      <td>54.980000</td>\n",
       "      <td>51.873322</td>\n",
       "      <td>36373200</td>\n",
       "    </tr>\n",
       "    <tr>\n",
       "      <th>2015-12-10</th>\n",
       "      <td>55.389999</td>\n",
       "      <td>55.660000</td>\n",
       "      <td>55.009998</td>\n",
       "      <td>55.270000</td>\n",
       "      <td>52.146927</td>\n",
       "      <td>31620700</td>\n",
       "    </tr>\n",
       "    <tr>\n",
       "      <th>2015-12-11</th>\n",
       "      <td>54.709999</td>\n",
       "      <td>55.099998</td>\n",
       "      <td>54.009998</td>\n",
       "      <td>54.060001</td>\n",
       "      <td>51.005306</td>\n",
       "      <td>39549500</td>\n",
       "    </tr>\n",
       "    <tr>\n",
       "      <th>2015-12-14</th>\n",
       "      <td>54.330002</td>\n",
       "      <td>55.209999</td>\n",
       "      <td>53.680000</td>\n",
       "      <td>55.139999</td>\n",
       "      <td>52.024277</td>\n",
       "      <td>46768900</td>\n",
       "    </tr>\n",
       "    <tr>\n",
       "      <th>2015-12-15</th>\n",
       "      <td>55.660000</td>\n",
       "      <td>55.900002</td>\n",
       "      <td>55.090000</td>\n",
       "      <td>55.200001</td>\n",
       "      <td>52.080887</td>\n",
       "      <td>39843000</td>\n",
       "    </tr>\n",
       "    <tr>\n",
       "      <th>2015-12-16</th>\n",
       "      <td>55.540001</td>\n",
       "      <td>56.250000</td>\n",
       "      <td>54.759998</td>\n",
       "      <td>56.130001</td>\n",
       "      <td>52.958328</td>\n",
       "      <td>37503300</td>\n",
       "    </tr>\n",
       "    <tr>\n",
       "      <th>2015-12-17</th>\n",
       "      <td>56.360001</td>\n",
       "      <td>56.790001</td>\n",
       "      <td>55.529999</td>\n",
       "      <td>55.700001</td>\n",
       "      <td>52.552631</td>\n",
       "      <td>41280900</td>\n",
       "    </tr>\n",
       "    <tr>\n",
       "      <th>2015-12-18</th>\n",
       "      <td>55.770000</td>\n",
       "      <td>56.000000</td>\n",
       "      <td>54.029999</td>\n",
       "      <td>54.130001</td>\n",
       "      <td>51.071346</td>\n",
       "      <td>84684200</td>\n",
       "    </tr>\n",
       "    <tr>\n",
       "      <th>2015-12-21</th>\n",
       "      <td>54.880001</td>\n",
       "      <td>55.349998</td>\n",
       "      <td>54.230000</td>\n",
       "      <td>54.830002</td>\n",
       "      <td>51.731800</td>\n",
       "      <td>37246300</td>\n",
       "    </tr>\n",
       "    <tr>\n",
       "      <th>2015-12-22</th>\n",
       "      <td>54.990002</td>\n",
       "      <td>55.480000</td>\n",
       "      <td>54.500000</td>\n",
       "      <td>55.349998</td>\n",
       "      <td>52.222408</td>\n",
       "      <td>28300300</td>\n",
       "    </tr>\n",
       "    <tr>\n",
       "      <th>2015-12-23</th>\n",
       "      <td>55.700001</td>\n",
       "      <td>55.880001</td>\n",
       "      <td>55.439999</td>\n",
       "      <td>55.820000</td>\n",
       "      <td>52.665852</td>\n",
       "      <td>27279800</td>\n",
       "    </tr>\n",
       "    <tr>\n",
       "      <th>2015-12-24</th>\n",
       "      <td>55.860001</td>\n",
       "      <td>55.959999</td>\n",
       "      <td>55.430000</td>\n",
       "      <td>55.669998</td>\n",
       "      <td>52.524326</td>\n",
       "      <td>9570000</td>\n",
       "    </tr>\n",
       "    <tr>\n",
       "      <th>2015-12-28</th>\n",
       "      <td>55.349998</td>\n",
       "      <td>55.950001</td>\n",
       "      <td>54.980000</td>\n",
       "      <td>55.950001</td>\n",
       "      <td>52.788506</td>\n",
       "      <td>21698000</td>\n",
       "    </tr>\n",
       "    <tr>\n",
       "      <th>2015-12-29</th>\n",
       "      <td>56.290001</td>\n",
       "      <td>56.849998</td>\n",
       "      <td>56.060001</td>\n",
       "      <td>56.549999</td>\n",
       "      <td>53.354599</td>\n",
       "      <td>27731400</td>\n",
       "    </tr>\n",
       "    <tr>\n",
       "      <th>2015-12-30</th>\n",
       "      <td>56.470001</td>\n",
       "      <td>56.779999</td>\n",
       "      <td>56.290001</td>\n",
       "      <td>56.310001</td>\n",
       "      <td>53.128170</td>\n",
       "      <td>21704500</td>\n",
       "    </tr>\n",
       "    <tr>\n",
       "      <th>2015-12-31</th>\n",
       "      <td>56.040001</td>\n",
       "      <td>56.189999</td>\n",
       "      <td>55.419998</td>\n",
       "      <td>55.480000</td>\n",
       "      <td>52.345066</td>\n",
       "      <td>27334100</td>\n",
       "    </tr>\n",
       "  </tbody>\n",
       "</table>\n",
       "<p>1511 rows × 6 columns</p>\n",
       "</div>"
      ],
      "text/plain": [
       "                 Open       High        Low      Close  Adj Close     Volume\n",
       "Date                                                                        \n",
       "2009-12-31  30.980000  30.990000  30.480000  30.480000  24.544783   31929700\n",
       "2010-01-04  30.620001  31.100000  30.590000  30.950001  24.923265   38409100\n",
       "2010-01-05  30.850000  31.100000  30.639999  30.959999  24.931318   49749600\n",
       "2010-01-06  30.879999  31.080000  30.520000  30.770000  24.778313   58182400\n",
       "2010-01-07  30.629999  30.700001  30.190001  30.450001  24.520622   50559700\n",
       "2010-01-08  30.280001  30.879999  30.240000  30.660000  24.689730   51197400\n",
       "2010-01-11  30.709999  30.760000  30.120001  30.270000  24.375685   68754700\n",
       "2010-01-12  30.150000  30.400000  29.910000  30.070000  24.214621   65912100\n",
       "2010-01-13  30.260000  30.520000  30.010000  30.350000  24.440102   51863500\n",
       "2010-01-14  30.309999  31.100000  30.260000  30.959999  24.931318   63228100\n",
       "2010-01-15  31.080000  31.240000  30.709999  30.860001  24.850792   79913200\n",
       "2010-01-19  30.750000  31.240000  30.680000  31.100000  25.044058   46575700\n",
       "2010-01-20  30.809999  30.940001  30.309999  30.590000  24.633364   54849500\n",
       "2010-01-21  30.610001  30.719999  30.000000  30.010000  24.166307   73086700\n",
       "2010-01-22  30.000000  30.200001  28.840000  28.959999  23.320772  102004600\n",
       "2010-01-25  29.240000  29.660000  29.100000  29.320000  23.610674   63373000\n",
       "2010-01-26  29.200001  29.850000  29.090000  29.500000  23.755617   66639900\n",
       "2010-01-27  29.350000  29.820000  29.020000  29.670000  23.892517   63949500\n",
       "2010-01-28  29.840000  29.870001  28.889999  29.160000  23.481817  117513700\n",
       "2010-01-29  29.900000  29.920000  27.660000  28.180000  22.692654  193888500\n",
       "2010-02-01  28.389999  28.480000  27.920000  28.410000  22.877863   85931100\n",
       "2010-02-02  28.370001  28.500000  28.139999  28.459999  22.918135   54413700\n",
       "2010-02-03  28.260000  28.790001  28.120001  28.629999  23.055025   61397900\n",
       "2010-02-04  28.379999  28.500000  27.809999  27.840000  22.418863   77850000\n",
       "2010-02-05  28.000000  28.280001  27.570000  28.020000  22.563814   80960100\n",
       "2010-02-08  28.010000  28.080000  27.570000  27.719999  22.322224   52820600\n",
       "2010-02-09  27.969999  28.340000  27.750000  28.010000  22.555761   59195800\n",
       "2010-02-10  28.030001  28.240000  27.840000  27.990000  22.539648   48591300\n",
       "2010-02-11  27.930000  28.400000  27.700001  28.120001  22.644337   65993700\n",
       "2010-02-12  27.809999  28.059999  27.580000  27.930000  22.491335   81117200\n",
       "...               ...        ...        ...        ...        ...        ...\n",
       "2015-11-18  53.000000  53.980000  52.980000  53.849998  50.807163   29710000\n",
       "2015-11-19  53.990002  54.660000  53.779999  53.939999  50.892090   28149200\n",
       "2015-11-20  54.250000  54.299999  53.270000  54.189999  51.127956   37147600\n",
       "2015-11-23  54.250000  54.459999  53.750000  54.189999  51.127956   28235900\n",
       "2015-11-24  53.919998  54.439999  53.580002  54.250000  51.184570   24600000\n",
       "2015-11-25  54.090000  54.230000  53.689999  53.689999  50.656204   21005100\n",
       "2015-11-27  53.799999  54.080002  53.790001  53.930000  50.882645    9009100\n",
       "2015-11-30  54.540001  54.959999  54.000000  54.349998  51.278912   56241400\n",
       "2015-12-01  54.410000  55.230000  54.299999  55.220001  52.099762   39952800\n",
       "2015-12-02  55.320000  55.959999  55.060001  55.209999  52.090317   47274900\n",
       "2015-12-03  55.490002  55.770000  53.930000  54.200001  51.137394   38627800\n",
       "2015-12-04  54.119999  56.230000  54.099998  55.910000  52.750759   43963700\n",
       "2015-12-07  55.790001  55.970001  55.290001  55.810001  52.656418   30709800\n",
       "2015-12-08  55.470001  56.099998  54.990002  55.790001  52.637547   32878000\n",
       "2015-12-09  55.369999  55.869999  54.509998  54.980000  51.873322   36373200\n",
       "2015-12-10  55.389999  55.660000  55.009998  55.270000  52.146927   31620700\n",
       "2015-12-11  54.709999  55.099998  54.009998  54.060001  51.005306   39549500\n",
       "2015-12-14  54.330002  55.209999  53.680000  55.139999  52.024277   46768900\n",
       "2015-12-15  55.660000  55.900002  55.090000  55.200001  52.080887   39843000\n",
       "2015-12-16  55.540001  56.250000  54.759998  56.130001  52.958328   37503300\n",
       "2015-12-17  56.360001  56.790001  55.529999  55.700001  52.552631   41280900\n",
       "2015-12-18  55.770000  56.000000  54.029999  54.130001  51.071346   84684200\n",
       "2015-12-21  54.880001  55.349998  54.230000  54.830002  51.731800   37246300\n",
       "2015-12-22  54.990002  55.480000  54.500000  55.349998  52.222408   28300300\n",
       "2015-12-23  55.700001  55.880001  55.439999  55.820000  52.665852   27279800\n",
       "2015-12-24  55.860001  55.959999  55.430000  55.669998  52.524326    9570000\n",
       "2015-12-28  55.349998  55.950001  54.980000  55.950001  52.788506   21698000\n",
       "2015-12-29  56.290001  56.849998  56.060001  56.549999  53.354599   27731400\n",
       "2015-12-30  56.470001  56.779999  56.290001  56.310001  53.128170   21704500\n",
       "2015-12-31  56.040001  56.189999  55.419998  55.480000  52.345066   27334100\n",
       "\n",
       "[1511 rows x 6 columns]"
      ]
     },
     "execution_count": 4,
     "metadata": {},
     "output_type": "execute_result"
    }
   ],
   "source": [
    "MSFT"
   ]
  },
  {
   "cell_type": "markdown",
   "metadata": {},
   "source": [
    "날짜별 수익률을 구한다."
   ]
  },
  {
   "cell_type": "code",
   "execution_count": 5,
   "metadata": {
    "ExecuteTime": {
     "end_time": "2018-05-24T06:16:01.152662Z",
     "start_time": "2018-05-24T15:16:01.147524+09:00"
    },
    "collapsed": true
   },
   "outputs": [],
   "source": [
    "price = MSFT['Adj Close']\n",
    "returns = price.pct_change()[1:]"
   ]
  },
  {
   "cell_type": "markdown",
   "metadata": {},
   "source": [
    "주식 가격"
   ]
  },
  {
   "cell_type": "code",
   "execution_count": 6,
   "metadata": {
    "ExecuteTime": {
     "end_time": "2018-05-24T06:16:02.149319Z",
     "start_time": "2018-05-24T15:16:02.111773+09:00"
    }
   },
   "outputs": [
    {
     "data": {
      "text/plain": [
       "Date\n",
       "2009-12-31    24.544783\n",
       "2010-01-04    24.923265\n",
       "2010-01-05    24.931318\n",
       "2010-01-06    24.778313\n",
       "2010-01-07    24.520622\n",
       "2010-01-08    24.689730\n",
       "2010-01-11    24.375685\n",
       "2010-01-12    24.214621\n",
       "2010-01-13    24.440102\n",
       "2010-01-14    24.931318\n",
       "2010-01-15    24.850792\n",
       "2010-01-19    25.044058\n",
       "2010-01-20    24.633364\n",
       "2010-01-21    24.166307\n",
       "2010-01-22    23.320772\n",
       "2010-01-25    23.610674\n",
       "2010-01-26    23.755617\n",
       "2010-01-27    23.892517\n",
       "2010-01-28    23.481817\n",
       "2010-01-29    22.692654\n",
       "2010-02-01    22.877863\n",
       "2010-02-02    22.918135\n",
       "2010-02-03    23.055025\n",
       "2010-02-04    22.418863\n",
       "2010-02-05    22.563814\n",
       "2010-02-08    22.322224\n",
       "2010-02-09    22.555761\n",
       "2010-02-10    22.539648\n",
       "2010-02-11    22.644337\n",
       "2010-02-12    22.491335\n",
       "                ...    \n",
       "2015-11-18    50.807163\n",
       "2015-11-19    50.892090\n",
       "2015-11-20    51.127956\n",
       "2015-11-23    51.127956\n",
       "2015-11-24    51.184570\n",
       "2015-11-25    50.656204\n",
       "2015-11-27    50.882645\n",
       "2015-11-30    51.278912\n",
       "2015-12-01    52.099762\n",
       "2015-12-02    52.090317\n",
       "2015-12-03    51.137394\n",
       "2015-12-04    52.750759\n",
       "2015-12-07    52.656418\n",
       "2015-12-08    52.637547\n",
       "2015-12-09    51.873322\n",
       "2015-12-10    52.146927\n",
       "2015-12-11    51.005306\n",
       "2015-12-14    52.024277\n",
       "2015-12-15    52.080887\n",
       "2015-12-16    52.958328\n",
       "2015-12-17    52.552631\n",
       "2015-12-18    51.071346\n",
       "2015-12-21    51.731800\n",
       "2015-12-22    52.222408\n",
       "2015-12-23    52.665852\n",
       "2015-12-24    52.524326\n",
       "2015-12-28    52.788506\n",
       "2015-12-29    53.354599\n",
       "2015-12-30    53.128170\n",
       "2015-12-31    52.345066\n",
       "Name: Adj Close, dtype: float64"
      ]
     },
     "execution_count": 6,
     "metadata": {},
     "output_type": "execute_result"
    }
   ],
   "source": [
    "price"
   ]
  },
  {
   "cell_type": "code",
   "execution_count": 7,
   "metadata": {
    "ExecuteTime": {
     "end_time": "2018-05-24T06:16:02.948657Z",
     "start_time": "2018-05-24T15:16:02.610802+09:00"
    }
   },
   "outputs": [
    {
     "data": {
      "image/png": "[encoded data removed]",
      "text/plain": [
       "<matplotlib.figure.Figure at 0x7f3473c0e358>"
      ]
     },
     "metadata": {},
     "output_type": "display_data"
    }
   ],
   "source": [
    "plt.plot(price)\n",
    "plt.grid()\n",
    "plt.ylabel('Price')\n",
    "plt.show()"
   ]
  },
  {
   "cell_type": "markdown",
   "metadata": {},
   "source": [
    "주식 수익률"
   ]
  },
  {
   "cell_type": "code",
   "execution_count": 8,
   "metadata": {
    "ExecuteTime": {
     "end_time": "2018-05-24T06:16:04.716059Z",
     "start_time": "2018-05-24T15:16:04.520346+09:00"
    }
   },
   "outputs": [
    {
     "data": {
      "image/png": "[encoded data removed]",
      "text/plain": [
       "<matplotlib.figure.Figure at 0x7f347177b898>"
      ]
     },
     "metadata": {},
     "output_type": "display_data"
    }
   ],
   "source": [
    "plt.plot(returns)\n",
    "plt.grid()\n",
    "plt.ylabel('Returns')\n",
    "plt.show()"
   ]
  },
  {
   "cell_type": "markdown",
   "metadata": {},
   "source": [
    "정규 분포의 $95\\%$ 신뢰 구간 "
   ]
  },
  {
   "cell_type": "code",
   "execution_count": 9,
   "metadata": {
    "ExecuteTime": {
     "end_time": "2018-05-24T06:16:06.353723Z",
     "start_time": "2018-05-24T15:16:06.114605+09:00"
    }
   },
   "outputs": [
    {
     "data": {
      "image/png": "[encoded data removed]",
      "text/plain": [
       "<matplotlib.figure.Figure at 0x7f3471759588>"
      ]
     },
     "metadata": {},
     "output_type": "display_data"
    }
   ],
   "source": [
    "x = np.linspace(-3, 3, 100)\n",
    "norm_pdf = lambda x: (1/np.sqrt(2 * np.pi)) * np.exp(-x * x / 2)\n",
    "y = norm_pdf(x)\n",
    "\n",
    "fig, ax = plt.subplots(1, 1, sharex=True)\n",
    "ax.plot(x, y)\n",
    "ax.fill_between(x, 0, y, where = x > 1.96, color='blue')\n",
    "ax.fill_between(x, 0, y, where = x < -1.96, color='blue')\n",
    "plt.plot([1.96,1.96],[0,0.5], 'r--')\n",
    "plt.plot([-1.96,-1.96],[0,0.5], 'r--')\n",
    "plt.title('Rejection regions for a two-tailed hypothesis test at 95% confidence')\n",
    "plt.xlabel('x')\n",
    "plt.ylabel('p(x)')\n",
    "plt.xlim(-3,3)\n",
    "plt.ylim(0,0.5)\n",
    "plt.show()"
   ]
  },
  {
   "cell_type": "markdown",
   "metadata": {},
   "source": [
    "수익률의 통계량 계산"
   ]
  },
  {
   "cell_type": "code",
   "execution_count": 10,
   "metadata": {
    "ExecuteTime": {
     "end_time": "2018-05-24T06:16:07.999402Z",
     "start_time": "2018-05-24T15:16:07.991653+09:00"
    }
   },
   "outputs": [
    {
     "name": "stdout",
     "output_type": "stream",
     "text": [
      "t test statistic:  1.61535780489\n"
     ]
    }
   ],
   "source": [
    "n = len(returns)\n",
    "test_statistic = ((returns.mean() - 0) /\n",
    "                (returns.std()/np.sqrt(n-1)))\n",
    "print ('t test statistic: ', test_statistic)"
   ]
  },
  {
   "cell_type": "code",
   "execution_count": 11,
   "metadata": {
    "ExecuteTime": {
     "end_time": "2018-05-24T06:16:44.791748Z",
     "start_time": "2018-05-24T15:16:44.785639+09:00"
    }
   },
   "outputs": [
    {
     "name": "stdout",
     "output_type": "stream",
     "text": [
      "P-value is:  0.0531166161432\n"
     ]
    }
   ],
   "source": [
    "from scipy.stats import norm\n",
    "p_val = (1 - norm.cdf(test_statistic,0,1))\n",
    "print('P-value is: ', p_val)"
   ]
  },
  {
   "cell_type": "markdown",
   "metadata": {},
   "source": [
    "P-value가 0.05보다 크므로, $H_0$를 기각할 수 없다."
   ]
  },
  {
   "cell_type": "markdown",
   "metadata": {},
   "source": [
    "## 두 집단의 평균 비교\n",
    "APPLE사의 주식의 평균 수익률이 시장의 평균 수익률이 다른지 검증"
   ]
  },
  {
   "cell_type": "markdown",
   "metadata": {},
   "source": [
    "### 가설 수립\n",
    "1. $H_0$ : APPLE사의 주식의 평균 수익률에서 시장의 평균 수익률을 뺀 값이 0이다.\n",
    "2. $H_1$ : APPLE사의 주식의 평균 수익률에서 시장의 평균 수익률을 뺀 값은 0이 아니다."
   ]
  },
  {
   "cell_type": "markdown",
   "metadata": {},
   "source": [
    "데이터 불러오기 & 수익률 계산"
   ]
  },
  {
   "cell_type": "code",
   "execution_count": 12,
   "metadata": {
    "ExecuteTime": {
     "end_time": "2018-05-24T06:22:39.039216Z",
     "start_time": "2018-05-24T15:22:35.788661+09:00"
    },
    "collapsed": true
   },
   "outputs": [],
   "source": [
    "SPY = web.DataReader('^GSPC','yahoo',start=start, end=end)\n",
    "AAPL = web.DataReader('AAPL','yahoo',start=start, end=end)"
   ]
  },
  {
   "cell_type": "code",
   "execution_count": 13,
   "metadata": {
    "ExecuteTime": {
     "end_time": "2018-05-24T06:22:39.049600Z",
     "start_time": "2018-05-24T15:22:39.041638+09:00"
    },
    "collapsed": true
   },
   "outputs": [],
   "source": [
    "SPY_price = SPY['Adj Close']\n",
    "AAPL_price = AAPL['Adj Close']\n",
    "SPY_returns = SPY_price.pct_change()[1:]\n",
    "AAPL_returns = AAPL_price.pct_change()[1:]"
   ]
  },
  {
   "cell_type": "code",
   "execution_count": 14,
   "metadata": {
    "ExecuteTime": {
     "end_time": "2018-05-24T06:22:39.533511Z",
     "start_time": "2018-05-24T15:22:39.052069+09:00"
    }
   },
   "outputs": [
    {
     "data": {
      "image/png": "[encoded data removed]",
      "text/plain": [
       "<matplotlib.figure.Figure at 0x7f34744e3d68>"
      ]
     },
     "metadata": {},
     "output_type": "display_data"
    }
   ],
   "source": [
    "plt.figure(1, figsize = (15, 7))\n",
    "plt.plot(SPY_returns,label='SPY', color = 'blue')\n",
    "plt.plot(AAPL_returns,label='AAPL', color = 'orange')\n",
    "plt.grid()\n",
    "plt.ylabel('Returns')\n",
    "plt.legend()\n",
    "plt.show()"
   ]
  },
  {
   "cell_type": "markdown",
   "metadata": {},
   "source": [
    "### 두 집단이 정규분포를 따르고, 분산은 같지만, 분산값이 알려져 있지 않은 경우 \n",
    "두 집단의 평균 비교는 다음의 통계량을 이용한다.\n",
    "\n",
    "$$ t = \\frac{(\\bar{X}_1 - \\bar{X}_2) - (\\mu_1 - \\mu_2)}{(\\frac{s_p^2}{n_1} + \\frac{s_p^2}{n_2})^{1/2}} = \\frac{\\bar{X}_1 - \\bar{X}_2}{(\\frac{s_p^2}{n_1} + \\frac{s_p^2}{n_2})^{1/2}}$$\n",
    "\n",
    "$$s_p^2 = \\frac{(n_1 - 1)s_1^2 + (n_2 - 1)s_2^2)}{n_1 + n_2 - 2}$$\n",
    "\n",
    "이 경우 t는 t-분포를 따르고, 자유도는 $n_1 + n_2 - 2$가 된다.\n",
    "\n",
    "### 두 집단이 정규분포를 따르지만, 분산값이 알려져 있지 않은 경우 \n",
    "두 집단의 평균 비교는 다음의 통계량을 이용한다.\n",
    "\n",
    "$$ t = \\frac{(\\bar{X}_1 - \\bar{X}_2) - (\\mu_1 - \\mu_2)}{(\\frac{s_1^2}{n_1} + \\frac{s_2^2}{n_2})^{1/2}} = \\frac{\\bar{X}_1 - \\bar{X}_2}{(\\frac{s_1^2}{n_1} + \\frac{s_2^2}{n_2})^{1/2}}$$\n",
    "$s_1^2$, $s_2^2$은 각각의 표본 분산이다.\n",
    "\n",
    "이 경우 t는 t-분포를 따르고, 자유도는 $df = \\frac{(\\frac{s_1^2}{n_1} + \\frac{s_2^2}{n_2})^2}{\\frac{(s_1^2/n_1)^2}{n_1} + \\frac{(s_2^2/n_2)^2}{n_2}}$가 된다.\n",
    "\n",
    "\n"
   ]
  },
  {
   "cell_type": "markdown",
   "metadata": {},
   "source": [
    "통계량 계산"
   ]
  },
  {
   "cell_type": "code",
   "execution_count": 17,
   "metadata": {
    "ExecuteTime": {
     "end_time": "2018-01-23T06:16:40.035809Z",
     "start_time": "2018-01-23T15:16:40.013632+09:00"
    }
   },
   "outputs": [
    {
     "name": "stdout",
     "output_type": "stream",
     "text": [
      "t test statistic:  1.12460616015\n",
      "Degrees of freedom (modified):  2465.17409534\n"
     ]
    }
   ],
   "source": [
    "mu_spy = SPY_returns.mean()\n",
    "mu_aapl = AAPL_returns.mean()\n",
    "s_spy = SPY_returns.std()\n",
    "s_aapl = AAPL_returns.std()\n",
    "n_spy = len(SPY_returns)\n",
    "n_aapl = len(AAPL_returns)\n",
    "\n",
    "test_statistic = ((mu_aapl - mu_spy) - 0)/((s_spy**2/n_spy) + (s_aapl**2/n_aapl))**0.5\n",
    "df = ((s_spy**2/n_spy) + (s_aapl**2/n_aapl))**2/(((s_spy**2 / n_spy)**2 /n_spy)+((s_aapl**2 / n_aapl)**2/n_aapl))\n",
    "\n",
    "print('t test statistic: ', test_statistic)\n",
    "print('Degrees of freedom (modified): ', df)"
   ]
  },
  {
   "cell_type": "markdown",
   "metadata": {},
   "source": [
    "자유도가 매우 높을 때(>30)의 t-distribution은 정규분포에 근사하므로, 신뢰도 $95\\%$ 구간은 [-1.96, 1.96]이다. 따라서, 귀무가설을 기각할 수 없다."
   ]
  },
  {
   "cell_type": "markdown",
   "metadata": {},
   "source": [
    "## P-value의 이해"
   ]
  },
  {
   "cell_type": "markdown",
   "metadata": {},
   "source": [
    "P-value는 귀무가설을 가정할 때, 통계량이 귀무가설 보다 더 극한의 값을 가질 확률을 의미하는 것이지, $H_1$이 맞을 확률이 아니다."
   ]
  },
  {
   "cell_type": "markdown",
   "metadata": {},
   "source": [
    "### 실험의 반복"
   ]
  },
  {
   "cell_type": "markdown",
   "metadata": {},
   "source": [
    "$H_0$를 기각했을 때, 실제로 $H_0$인 경우를 제 1종 오류(Type 1 error)라고 한다. Type 1 error의 확률은 유의수준(siginificant level)과 같다. 실제로 Type 1 error가 나올 확률이 유의 수준과 같은지 확인해 보자."
   ]
  },
  {
   "cell_type": "code",
   "execution_count": 21,
   "metadata": {
    "ExecuteTime": {
     "end_time": "2018-01-23T06:23:13.297338Z",
     "start_time": "2018-01-23T15:23:13.276047+09:00"
    }
   },
   "outputs": [],
   "source": [
    "df = pd.DataFrame()\n",
    "T = 20\n",
    "N = 100\n",
    "\n",
    "for i in range(T):\n",
    "    X = stats.norm.rvs(0, 1, N)\n",
    "    name = 'X{}'.format(i)\n",
    "    df[name] = X"
   ]
  },
  {
   "cell_type": "code",
   "execution_count": 17,
   "metadata": {
    "ExecuteTime": {
     "end_time": "2018-01-17T08:04:43.330199Z",
     "start_time": "2018-01-17T17:04:43.294345+09:00"
    }
   },
   "outputs": [
    {
     "data": {
      "text/html": [
       "<div>\n",
       "<table border=\"1\" class=\"dataframe\">\n",
       "  <thead>\n",
       "    <tr style=\"text-align: right;\">\n",
       "      <th></th>\n",
       "      <th>X0</th>\n",
       "      <th>X1</th>\n",
       "      <th>X2</th>\n",
       "      <th>X3</th>\n",
       "      <th>X4</th>\n",
       "      <th>X5</th>\n",
       "      <th>X6</th>\n",
       "      <th>X7</th>\n",
       "      <th>X8</th>\n",
       "      <th>X9</th>\n",
       "      <th>X10</th>\n",
       "      <th>X11</th>\n",
       "      <th>X12</th>\n",
       "      <th>X13</th>\n",
       "      <th>X14</th>\n",
       "      <th>X15</th>\n",
       "      <th>X16</th>\n",
       "      <th>X17</th>\n",
       "      <th>X18</th>\n",
       "      <th>X19</th>\n",
       "    </tr>\n",
       "  </thead>\n",
       "  <tbody>\n",
       "    <tr>\n",
       "      <th>0</th>\n",
       "      <td>-0.202900</td>\n",
       "      <td>-1.277519</td>\n",
       "      <td>1.028058</td>\n",
       "      <td>0.190563</td>\n",
       "      <td>-1.574994</td>\n",
       "      <td>-0.809000</td>\n",
       "      <td>1.005462</td>\n",
       "      <td>-0.464991</td>\n",
       "      <td>-1.351480</td>\n",
       "      <td>1.449525</td>\n",
       "      <td>0.606950</td>\n",
       "      <td>0.364771</td>\n",
       "      <td>-0.142517</td>\n",
       "      <td>-0.286599</td>\n",
       "      <td>0.136852</td>\n",
       "      <td>-0.202982</td>\n",
       "      <td>0.692113</td>\n",
       "      <td>1.276782</td>\n",
       "      <td>-1.358113</td>\n",
       "      <td>0.864741</td>\n",
       "    </tr>\n",
       "    <tr>\n",
       "      <th>1</th>\n",
       "      <td>-0.086857</td>\n",
       "      <td>1.539190</td>\n",
       "      <td>-0.461561</td>\n",
       "      <td>0.183189</td>\n",
       "      <td>-0.047640</td>\n",
       "      <td>0.502380</td>\n",
       "      <td>-1.492676</td>\n",
       "      <td>1.260369</td>\n",
       "      <td>1.619478</td>\n",
       "      <td>-1.708090</td>\n",
       "      <td>1.950392</td>\n",
       "      <td>-0.277151</td>\n",
       "      <td>-0.310941</td>\n",
       "      <td>1.668831</td>\n",
       "      <td>-1.290646</td>\n",
       "      <td>1.193194</td>\n",
       "      <td>0.051497</td>\n",
       "      <td>0.735731</td>\n",
       "      <td>1.875563</td>\n",
       "      <td>-0.395168</td>\n",
       "    </tr>\n",
       "    <tr>\n",
       "      <th>2</th>\n",
       "      <td>1.355651</td>\n",
       "      <td>-0.055740</td>\n",
       "      <td>-1.805089</td>\n",
       "      <td>0.065554</td>\n",
       "      <td>-0.513596</td>\n",
       "      <td>-0.608245</td>\n",
       "      <td>1.236461</td>\n",
       "      <td>1.450703</td>\n",
       "      <td>0.181633</td>\n",
       "      <td>0.423455</td>\n",
       "      <td>-1.337007</td>\n",
       "      <td>1.756696</td>\n",
       "      <td>0.423281</td>\n",
       "      <td>-0.811870</td>\n",
       "      <td>0.173631</td>\n",
       "      <td>1.068699</td>\n",
       "      <td>-0.883310</td>\n",
       "      <td>1.718716</td>\n",
       "      <td>0.286464</td>\n",
       "      <td>-0.257340</td>\n",
       "    </tr>\n",
       "    <tr>\n",
       "      <th>3</th>\n",
       "      <td>0.200273</td>\n",
       "      <td>-0.533321</td>\n",
       "      <td>0.617519</td>\n",
       "      <td>0.832399</td>\n",
       "      <td>-0.642040</td>\n",
       "      <td>2.018620</td>\n",
       "      <td>0.336052</td>\n",
       "      <td>0.016554</td>\n",
       "      <td>0.672991</td>\n",
       "      <td>-0.349347</td>\n",
       "      <td>0.723485</td>\n",
       "      <td>0.204008</td>\n",
       "      <td>-0.802763</td>\n",
       "      <td>0.590399</td>\n",
       "      <td>0.969875</td>\n",
       "      <td>0.673652</td>\n",
       "      <td>0.499211</td>\n",
       "      <td>-0.693102</td>\n",
       "      <td>0.658534</td>\n",
       "      <td>1.382075</td>\n",
       "    </tr>\n",
       "    <tr>\n",
       "      <th>4</th>\n",
       "      <td>0.486667</td>\n",
       "      <td>-2.539691</td>\n",
       "      <td>-0.200666</td>\n",
       "      <td>-0.951950</td>\n",
       "      <td>0.528610</td>\n",
       "      <td>1.038601</td>\n",
       "      <td>1.140174</td>\n",
       "      <td>-0.610077</td>\n",
       "      <td>-1.352751</td>\n",
       "      <td>-0.258922</td>\n",
       "      <td>-0.266722</td>\n",
       "      <td>0.193845</td>\n",
       "      <td>-0.204401</td>\n",
       "      <td>-1.685599</td>\n",
       "      <td>1.838009</td>\n",
       "      <td>-0.319347</td>\n",
       "      <td>0.453427</td>\n",
       "      <td>2.227912</td>\n",
       "      <td>-0.769186</td>\n",
       "      <td>-1.329564</td>\n",
       "    </tr>\n",
       "  </tbody>\n",
       "</table>\n",
       "</div>"
      ],
      "text/plain": [
       "         X0        X1        X2        X3        X4        X5        X6  \\\n",
       "0 -0.202900 -1.277519  1.028058  0.190563 -1.574994 -0.809000  1.005462   \n",
       "1 -0.086857  1.539190 -0.461561  0.183189 -0.047640  0.502380 -1.492676   \n",
       "2  1.355651 -0.055740 -1.805089  0.065554 -0.513596 -0.608245  1.236461   \n",
       "3  0.200273 -0.533321  0.617519  0.832399 -0.642040  2.018620  0.336052   \n",
       "4  0.486667 -2.539691 -0.200666 -0.951950  0.528610  1.038601  1.140174   \n",
       "\n",
       "         X7        X8        X9       X10       X11       X12       X13  \\\n",
       "0 -0.464991 -1.351480  1.449525  0.606950  0.364771 -0.142517 -0.286599   \n",
       "1  1.260369  1.619478 -1.708090  1.950392 -0.277151 -0.310941  1.668831   \n",
       "2  1.450703  0.181633  0.423455 -1.337007  1.756696  0.423281 -0.811870   \n",
       "3  0.016554  0.672991 -0.349347  0.723485  0.204008 -0.802763  0.590399   \n",
       "4 -0.610077 -1.352751 -0.258922 -0.266722  0.193845 -0.204401 -1.685599   \n",
       "\n",
       "        X14       X15       X16       X17       X18       X19  \n",
       "0  0.136852 -0.202982  0.692113  1.276782 -1.358113  0.864741  \n",
       "1 -1.290646  1.193194  0.051497  0.735731  1.875563 -0.395168  \n",
       "2  0.173631  1.068699 -0.883310  1.718716  0.286464 -0.257340  \n",
       "3  0.969875  0.673652  0.499211 -0.693102  0.658534  1.382075  \n",
       "4  1.838009 -0.319347  0.453427  2.227912 -0.769186 -1.329564  "
      ]
     },
     "execution_count": 17,
     "metadata": {},
     "output_type": "execute_result"
    }
   ],
   "source": [
    "df.head()"
   ]
  },
  {
   "cell_type": "code",
   "execution_count": 22,
   "metadata": {
    "ExecuteTime": {
     "end_time": "2018-01-23T06:23:15.755951Z",
     "start_time": "2018-01-23T15:23:15.727699+09:00"
    }
   },
   "outputs": [],
   "source": [
    "cutoff = 0.05\n",
    "TypeIerror=0\n",
    "for i in range(T):\n",
    "    Xi = df.iloc[:, i]\n",
    "    test_statistic = ((Xi.mean() - 0) /\n",
    "                (Xi.std()/np.sqrt(N-1)))\n",
    "    pvalue = (1 - t.cdf(test_statistic, N - 1))\n",
    "    if pvalue < cutoff:\n",
    "        TypeIerror += 1"
   ]
  },
  {
   "cell_type": "code",
   "execution_count": 23,
   "metadata": {
    "ExecuteTime": {
     "end_time": "2018-01-23T06:23:19.064178Z",
     "start_time": "2018-01-23T15:23:19.059487+09:00"
    }
   },
   "outputs": [
    {
     "data": {
      "text/plain": [
       "2"
      ]
     },
     "execution_count": 23,
     "metadata": {},
     "output_type": "execute_result"
    }
   ],
   "source": [
    "TypeIerror"
   ]
  },
  {
   "cell_type": "code",
   "execution_count": 25,
   "metadata": {
    "ExecuteTime": {
     "end_time": "2018-01-23T06:24:03.710213Z",
     "start_time": "2018-01-23T15:24:03.705379+09:00"
    }
   },
   "outputs": [
    {
     "data": {
      "text/plain": [
       "100"
      ]
     },
     "execution_count": 25,
     "metadata": {},
     "output_type": "execute_result"
    }
   ],
   "source": [
    "len(Xi)"
   ]
  },
  {
   "cell_type": "markdown",
   "metadata": {},
   "source": [
    "횟수를 좀 더 늘려서 시도하기 위해 함수 정의\n",
    "\n",
    "N개의 데이터 샘플을 이용한 가설 검정을 T번 시행하고, 각 시행에 대한 p-value를 반환하는 함수"
   ]
  },
  {
   "cell_type": "code",
   "execution_count": 26,
   "metadata": {
    "ExecuteTime": {
     "end_time": "2018-01-23T06:26:19.861061Z",
     "start_time": "2018-01-23T15:26:19.847058+09:00"
    },
    "collapsed": true
   },
   "outputs": [],
   "source": [
    "def do_experiment(N, T, cutoff=0.05):\n",
    "    results=[]\n",
    "    \n",
    "    # Make random data\n",
    "    for i in range(T):\n",
    "        X = stats.norm.rvs(0, 1, N)\n",
    "        test_statistic = ((X.mean() - 0) /(X.std()/np.sqrt(N-1)))\n",
    "        pvalue = (1 - t.cdf(test_statistic, N - 1))\n",
    "        results.append(pvalue)\n",
    "    return results"
   ]
  },
  {
   "cell_type": "markdown",
   "metadata": {},
   "source": [
    "P-value 자체도 하나의 확률 변수로 볼 수 있다. 실제로 P-value는 [0,1]사이에서 균등하게 분포 되어있다."
   ]
  },
  {
   "cell_type": "code",
   "execution_count": 31,
   "metadata": {
    "ExecuteTime": {
     "end_time": "2018-01-23T06:26:50.177757Z",
     "start_time": "2018-01-23T15:26:49.938794+09:00"
    }
   },
   "outputs": [
    {
     "data": {
      "image/png": "[encoded data removed]",
      "text/plain": [
       "<matplotlib.figure.Figure at 0x7f5305c07668>"
      ]
     },
     "metadata": {},
     "output_type": "display_data"
    }
   ],
   "source": [
    "N=10\n",
    "T=100\n",
    "p_values = do_experiment(N,T,cutoff=0.05)\n",
    "plt.hist(p_values,normed=True)\n",
    "plt.plot((-0.05,1.05), (1,1), 'k--')\n",
    "plt.xlim(-0.05,1.05)\n",
    "plt.show()"
   ]
  },
  {
   "cell_type": "code",
   "execution_count": 34,
   "metadata": {
    "ExecuteTime": {
     "end_time": "2018-01-23T06:27:42.645034Z",
     "start_time": "2018-01-23T15:27:42.025967+09:00"
    }
   },
   "outputs": [
    {
     "data": {
      "image/png": "[encoded data removed]",
      "text/plain": [
       "<matplotlib.figure.Figure at 0x7f5305b2e9e8>"
      ]
     },
     "metadata": {},
     "output_type": "display_data"
    }
   ],
   "source": [
    "N=10\n",
    "T=1000\n",
    "p_values = do_experiment(N,T,cutoff=0.05)\n",
    "plt.hist(p_values,normed=True)\n",
    "plt.plot((-0.05,1.05), (1,1), 'k--')\n",
    "plt.xlim(-0.05,1.05)\n",
    "plt.show()"
   ]
  },
  {
   "cell_type": "code",
   "execution_count": 38,
   "metadata": {
    "ExecuteTime": {
     "end_time": "2018-01-23T06:28:12.818241Z",
     "start_time": "2018-01-23T15:28:08.672014+09:00"
    }
   },
   "outputs": [
    {
     "data": {
      "image/png": "[encoded data removed]",
      "text/plain": [
       "<matplotlib.figure.Figure at 0x7f5305b2b4a8>"
      ]
     },
     "metadata": {},
     "output_type": "display_data"
    }
   ],
   "source": [
    "N=50\n",
    "T=10000\n",
    "p_values = do_experiment(N,T,cutoff=0.05)\n",
    "plt.hist(p_values,normed=True)\n",
    "plt.plot((-0.05,1.05), (1,1), 'k--')\n",
    "plt.xlim(-0.05,1.05)\n",
    "plt.show()"
   ]
  },
  {
   "cell_type": "code",
   "execution_count": 24,
   "metadata": {
    "ExecuteTime": {
     "end_time": "2018-01-17T08:05:02.956151Z",
     "start_time": "2018-01-17T17:05:01.888617+09:00"
    }
   },
   "outputs": [
    {
     "data": {
      "image/png": "[encoded data removed]",
      "text/plain": [
       "<matplotlib.figure.Figure at 0x7fa62d84ae48>"
      ]
     },
     "metadata": {},
     "output_type": "display_data"
    }
   ],
   "source": [
    "N=50\n",
    "T=2000\n",
    "p_values = do_experiment(N,T,cutoff=0.05)\n",
    "plt.hist(p_values,normed=True, label='P-value Distribution')\n",
    "plt.plot((-0.05,1.05), (1,1), 'k--')\n",
    "plt.vlines(0.01, 0, 1.5, colors='r', linestyle='--', label='0.01 Cutoff')\n",
    "plt.vlines(0.05, 0, 1.5, colors='r', label='0.05 Cutoff')\n",
    "plt.xlim(-0.05,1.05)\n",
    "plt.ylim(0,1.4)\n",
    "plt.legend(loc='lower right')\n",
    "plt.show()"
   ]
  },
  {
   "cell_type": "code",
   "execution_count": null,
   "metadata": {
    "collapsed": true
   },
   "outputs": [],
   "source": []
  }
 ],
 "metadata": {
  "kernelspec": {
   "display_name": "Python 3",
   "language": "python",
   "name": "python3"
  },
  "language_info": {
   "codemirror_mode": {
    "name": "ipython",
    "version": 3
   },
   "file_extension": ".py",
   "mimetype": "text/x-python",
   "name": "python",
   "nbconvert_exporter": "python",
   "pygments_lexer": "ipython3",
   "version": "3.6.5"
  }
 },
 "nbformat": 4,
 "nbformat_minor": 2
}
